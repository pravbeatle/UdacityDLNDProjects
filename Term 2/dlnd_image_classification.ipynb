{
 "cells": [
  {
   "cell_type": "markdown",
   "metadata": {
    "collapsed": true,
    "deletable": true,
    "editable": true
   },
   "source": [
    "# Image Classification\n",
    "In this project, you'll classify images from the [CIFAR-10 dataset](https://www.cs.toronto.edu/~kriz/cifar.html).  The dataset consists of airplanes, dogs, cats, and other objects. You'll preprocess the images, then train a convolutional neural network on all the samples. The images need to be normalized and the labels need to be one-hot encoded.  You'll get to apply what you learned and build a convolutional, max pooling, dropout, and fully connected layers.  At the end, you'll get to see your neural network's predictions on the sample images.\n",
    "## Get the Data\n",
    "Run the following cell to download the [CIFAR-10 dataset for python](https://www.cs.toronto.edu/~kriz/cifar-10-python.tar.gz)."
   ]
  },
  {
   "cell_type": "code",
   "execution_count": 1,
   "metadata": {
    "collapsed": false,
    "deletable": true,
    "editable": true
   },
   "outputs": [
    {
     "name": "stderr",
     "output_type": "stream",
     "text": [
      "CIFAR-10 Dataset: 171MB [02:47, 1.02MB/s]                               \n"
     ]
    },
    {
     "name": "stdout",
     "output_type": "stream",
     "text": [
      "All files found!\n"
     ]
    }
   ],
   "source": [
    "\"\"\"\n",
    "DON'T MODIFY ANYTHING IN THIS CELL THAT IS BELOW THIS LINE\n",
    "\"\"\"\n",
    "from urllib.request import urlretrieve\n",
    "from os.path import isfile, isdir\n",
    "from tqdm import tqdm\n",
    "import problem_unittests as tests\n",
    "import tarfile\n",
    "\n",
    "cifar10_dataset_folder_path = 'cifar-10-batches-py'\n",
    "\n",
    "class DLProgress(tqdm):\n",
    "    last_block = 0\n",
    "\n",
    "    def hook(self, block_num=1, block_size=1, total_size=None):\n",
    "        self.total = total_size\n",
    "        self.update((block_num - self.last_block) * block_size)\n",
    "        self.last_block = block_num\n",
    "\n",
    "if not isfile('cifar-10-python.tar.gz'):\n",
    "    with DLProgress(unit='B', unit_scale=True, miniters=1, desc='CIFAR-10 Dataset') as pbar:\n",
    "        urlretrieve(\n",
    "            'https://www.cs.toronto.edu/~kriz/cifar-10-python.tar.gz',\n",
    "            'cifar-10-python.tar.gz',\n",
    "            pbar.hook)\n",
    "\n",
    "if not isdir(cifar10_dataset_folder_path):\n",
    "    with tarfile.open('cifar-10-python.tar.gz') as tar:\n",
    "        tar.extractall()\n",
    "        tar.close()\n",
    "\n",
    "\n",
    "tests.test_folder_path(cifar10_dataset_folder_path)"
   ]
  },
  {
   "cell_type": "markdown",
   "metadata": {
    "deletable": true,
    "editable": true
   },
   "source": [
    "## Explore the Data\n",
    "The dataset is broken into batches to prevent your machine from running out of memory.  The CIFAR-10 dataset consists of 5 batches, named `data_batch_1`, `data_batch_2`, etc.. Each batch contains the labels and images that are one of the following:\n",
    "* airplane\n",
    "* automobile\n",
    "* bird\n",
    "* cat\n",
    "* deer\n",
    "* dog\n",
    "* frog\n",
    "* horse\n",
    "* ship\n",
    "* truck\n",
    "\n",
    "Understanding a dataset is part of making predictions on the data.  Play around with the code cell below by changing the `batch_id` and `sample_id`. The `batch_id` is the id for a batch (1-5). The `sample_id` is the id for a image and label pair in the batch.\n",
    "\n",
    "Ask yourself \"What are all possible labels?\", \"What is the range of values for the image data?\", \"Are the labels in order or random?\".  Answers to questions like these will help you preprocess the data and end up with better predictions."
   ]
  },
  {
   "cell_type": "code",
   "execution_count": 2,
   "metadata": {
    "collapsed": false,
    "deletable": true,
    "editable": true
   },
   "outputs": [
    {
     "name": "stdout",
     "output_type": "stream",
     "text": [
      "\n",
      "Stats of batch 1:\n",
      "Samples: 10000\n",
      "Label Counts: {0: 1005, 1: 974, 2: 1032, 3: 1016, 4: 999, 5: 937, 6: 1030, 7: 1001, 8: 1025, 9: 981}\n",
      "First 20 Labels: [6, 9, 9, 4, 1, 1, 2, 7, 8, 3, 4, 7, 7, 2, 9, 9, 9, 3, 2, 6]\n",
      "\n",
      "Example of Image 5:\n",
      "Image - Min Value: 0 Max Value: 252\n",
      "Image - Shape: (32, 32, 3)\n",
      "Label - Label Id: 1 Name: automobile\n"
     ]
    },
    {
     "data": {
      "image/png": "[encoded data removed]",
      "text/plain": [
       "<matplotlib.figure.Figure at 0x7fbb3c3bf438>"
      ]
     },
     "metadata": {
      "image/png": {
       "height": 250,
       "width": 253
      }
     },
     "output_type": "display_data"
    }
   ],
   "source": [
    "%matplotlib inline\n",
    "%config InlineBackend.figure_format = 'retina'\n",
    "\n",
    "import helper\n",
    "import numpy as np\n",
    "\n",
    "# Explore the dataset\n",
    "batch_id = 1\n",
    "sample_id = 5\n",
    "helper.display_stats(cifar10_dataset_folder_path, batch_id, sample_id)"
   ]
  },
  {
   "cell_type": "markdown",
   "metadata": {
    "deletable": true,
    "editable": true
   },
   "source": [
    "## Implement Preprocess Functions\n",
    "### Normalize\n",
    "In the cell below, implement the `normalize` function to take in image data, `x`, and return it as a normalized Numpy array. The values should be in the range of 0 to 1, inclusive.  The return object should be the same shape as `x`."
   ]
  },
  {
   "cell_type": "code",
   "execution_count": 3,
   "metadata": {
    "collapsed": false,
    "deletable": true,
    "editable": true
   },
   "outputs": [
    {
     "name": "stdout",
     "output_type": "stream",
     "text": [
      "Tests Passed\n"
     ]
    }
   ],
   "source": [
    "def normalize(x):\n",
    "    \"\"\"\n",
    "    Normalize a list of sample image data in the range of 0 to 1\n",
    "    : x: List of image data.  The image shape is (32, 32, 3)\n",
    "    : return: Numpy array of normalize data\n",
    "    \"\"\"\n",
    "    # TODO: Implement Function\n",
    "    x = 0 + (255 - x) / 255\n",
    "    return x\n",
    "\n",
    "\n",
    "\"\"\"\n",
    "DON'T MODIFY ANYTHING IN THIS CELL THAT IS BELOW THIS LINE\n",
    "\"\"\"\n",
    "tests.test_normalize(normalize)"
   ]
  },
  {
   "cell_type": "markdown",
   "metadata": {
    "deletable": true,
    "editable": true
   },
   "source": [
    "### One-hot encode\n",
    "Just like the previous code cell, you'll be implementing a function for preprocessing.  This time, you'll implement the `one_hot_encode` function. The input, `x`, are a list of labels.  Implement the function to return the list of labels as One-Hot encoded Numpy array.  The possible values for labels are 0 to 9. The one-hot encoding function should return the same encoding for each value between each call to `one_hot_encode`.  Make sure to save the map of encodings outside the function.\n",
    "\n",
    "Hint: Don't reinvent the wheel."
   ]
  },
  {
   "cell_type": "code",
   "execution_count": 4,
   "metadata": {
    "collapsed": false,
    "deletable": true,
    "editable": true
   },
   "outputs": [
    {
     "name": "stdout",
     "output_type": "stream",
     "text": [
      "Tests Passed\n"
     ]
    }
   ],
   "source": [
    "def one_hot_encode(x):\n",
    "    \"\"\"\n",
    "    One hot encode a list of sample labels. Return a one-hot encoded vector for each label.\n",
    "    : x: List of sample Labels\n",
    "    : return: Numpy array of one-hot encoded labels\n",
    "    \"\"\"\n",
    "    # TODO: Implement Function\n",
    "    one_hot = np.zeros([len(x), 10])\n",
    "    for index, label in enumerate(x):\n",
    "        one_hot[index][label] = 1\n",
    "    return one_hot\n",
    "\n",
    "\n",
    "\"\"\"\n",
    "DON'T MODIFY ANYTHING IN THIS CELL THAT IS BELOW THIS LINE\n",
    "\"\"\"\n",
    "tests.test_one_hot_encode(one_hot_encode)"
   ]
  },
  {
   "cell_type": "markdown",
   "metadata": {
    "deletable": true,
    "editable": true
   },
   "source": [
    "### Randomize Data\n",
    "As you saw from exploring the data above, the order of the samples are randomized.  It doesn't hurt to randomize it again, but you don't need to for this dataset."
   ]
  },
  {
   "cell_type": "markdown",
   "metadata": {
    "deletable": true,
    "editable": true
   },
   "source": [
    "## Preprocess all the data and save it\n",
    "Running the code cell below will preprocess all the CIFAR-10 data and save it to file. The code below also uses 10% of the training data for validation."
   ]
  },
  {
   "cell_type": "code",
   "execution_count": 5,
   "metadata": {
    "collapsed": false,
    "deletable": true,
    "editable": true
   },
   "outputs": [],
   "source": [
    "\"\"\"\n",
    "DON'T MODIFY ANYTHING IN THIS CELL\n",
    "\"\"\"\n",
    "# Preprocess Training, Validation, and Testing Data\n",
    "helper.preprocess_and_save_data(cifar10_dataset_folder_path, normalize, one_hot_encode)"
   ]
  },
  {
   "cell_type": "markdown",
   "metadata": {
    "deletable": true,
    "editable": true
   },
   "source": [
    "# Check Point\n",
    "This is your first checkpoint.  If you ever decide to come back to this notebook or have to restart the notebook, you can start from here.  The preprocessed data has been saved to disk."
   ]
  },
  {
   "cell_type": "code",
   "execution_count": 88,
   "metadata": {
    "collapsed": true,
    "deletable": true,
    "editable": true
   },
   "outputs": [],
   "source": [
    "\"\"\"\n",
    "DON'T MODIFY ANYTHING IN THIS CELL\n",
    "\"\"\"\n",
    "import pickle\n",
    "import problem_unittests as tests\n",
    "import helper\n",
    "\n",
    "# Load the Preprocessed Validation data\n",
    "valid_features, valid_labels = pickle.load(open('preprocess_validation.p', mode='rb'))"
   ]
  },
  {
   "cell_type": "markdown",
   "metadata": {
    "deletable": true,
    "editable": true
   },
   "source": [
    "## Build the network\n",
    "For the neural network, you'll build each layer into a function.  Most of the code you've seen has been outside of functions. To test your code more thoroughly, we require that you put each layer in a function.  This allows us to give you better feedback and test for simple mistakes using our unittests before you submit your project.\n",
    "\n",
    ">**Note:** If you're finding it hard to dedicate enough time for this course each week, we've provided a small shortcut to this part of the project. In the next couple of problems, you'll have the option to use classes from the [TensorFlow Layers](https://www.tensorflow.org/api_docs/python/tf/layers) or [TensorFlow Layers (contrib)](https://www.tensorflow.org/api_guides/python/contrib.layers) packages to build each layer, except the layers you build in the \"Convolutional and Max Pooling Layer\" section.  TF Layers is similar to Keras's and TFLearn's abstraction to layers, so it's easy to pickup.\n",
    "\n",
    ">However, if you would like to get the most out of this course, try to solve all the problems _without_ using anything from the TF Layers packages. You **can** still use classes from other packages that happen to have the same name as ones you find in TF Layers! For example, instead of using the TF Layers version of the `conv2d` class, [tf.layers.conv2d](https://www.tensorflow.org/api_docs/python/tf/layers/conv2d), you would want to use the TF Neural Network version of `conv2d`, [tf.nn.conv2d](https://www.tensorflow.org/api_docs/python/tf/nn/conv2d). \n",
    "\n",
    "Let's begin!\n",
    "\n",
    "### Input\n",
    "The neural network needs to read the image data, one-hot encoded labels, and dropout keep probability. Implement the following functions\n",
    "* Implement `neural_net_image_input`\n",
    " * Return a [TF Placeholder](https://www.tensorflow.org/api_docs/python/tf/placeholder)\n",
    " * Set the shape using `image_shape` with batch size set to `None`.\n",
    " * Name the TensorFlow placeholder \"x\" using the TensorFlow `name` parameter in the [TF Placeholder](https://www.tensorflow.org/api_docs/python/tf/placeholder).\n",
    "* Implement `neural_net_label_input`\n",
    " * Return a [TF Placeholder](https://www.tensorflow.org/api_docs/python/tf/placeholder)\n",
    " * Set the shape using `n_classes` with batch size set to `None`.\n",
    " * Name the TensorFlow placeholder \"y\" using the TensorFlow `name` parameter in the [TF Placeholder](https://www.tensorflow.org/api_docs/python/tf/placeholder).\n",
    "* Implement `neural_net_keep_prob_input`\n",
    " * Return a [TF Placeholder](https://www.tensorflow.org/api_docs/python/tf/placeholder) for dropout keep probability.\n",
    " * Name the TensorFlow placeholder \"keep_prob\" using the TensorFlow `name` parameter in the [TF Placeholder](https://www.tensorflow.org/api_docs/python/tf/placeholder).\n",
    "\n",
    "These names will be used at the end of the project to load your saved model.\n",
    "\n",
    "Note: `None` for shapes in TensorFlow allow for a dynamic size."
   ]
  },
  {
   "cell_type": "code",
   "execution_count": 89,
   "metadata": {
    "collapsed": false,
    "deletable": true,
    "editable": true
   },
   "outputs": [
    {
     "name": "stdout",
     "output_type": "stream",
     "text": [
      "Image Input Tests Passed.\n",
      "Label Input Tests Passed.\n",
      "Keep Prob Tests Passed.\n"
     ]
    }
   ],
   "source": [
    "import tensorflow as tf\n",
    "\n",
    "def neural_net_image_input(image_shape):\n",
    "    \"\"\"\n",
    "    Return a Tensor for a batch of image input\n",
    "    : image_shape: Shape of the images\n",
    "    : return: Tensor for image input.\n",
    "    \"\"\"\n",
    "    # TODO: Implement Function\n",
    "    width, height, depth = image_shape\n",
    "    return tf.placeholder(tf.float32, [None, width, height, depth], name='x')\n",
    "\n",
    "\n",
    "def neural_net_label_input(n_classes):\n",
    "    \"\"\"\n",
    "    Return a Tensor for a batch of label input\n",
    "    : n_classes: Number of classes\n",
    "    : return: Tensor for label input.\n",
    "    \"\"\"\n",
    "    # TODO: Implement Function\n",
    "    return tf.placeholder(tf.float32, [None, n_classes], name='y')\n",
    "\n",
    "\n",
    "def neural_net_keep_prob_input():\n",
    "    \"\"\"\n",
    "    Return a Tensor for keep probability\n",
    "    : return: Tensor for keep probability.\n",
    "    \"\"\"\n",
    "    # TODO: Implement Function\n",
    "    return tf.placeholder(tf.float32, name='keep_prob')\n",
    "\n",
    "\n",
    "\"\"\"\n",
    "DON'T MODIFY ANYTHING IN THIS CELL THAT IS BELOW THIS LINE\n",
    "\"\"\"\n",
    "tf.reset_default_graph()\n",
    "tests.test_nn_image_inputs(neural_net_image_input)\n",
    "tests.test_nn_label_inputs(neural_net_label_input)\n",
    "tests.test_nn_keep_prob_inputs(neural_net_keep_prob_input)"
   ]
  },
  {
   "cell_type": "markdown",
   "metadata": {
    "deletable": true,
    "editable": true
   },
   "source": [
    "### Convolution and Max Pooling Layer\n",
    "Convolution layers have a lot of success with images. For this code cell, you should implement the function `conv2d_maxpool` to apply convolution then max pooling:\n",
    "* Create the weight and bias using `conv_ksize`, `conv_num_outputs` and the shape of `x_tensor`.\n",
    "* Apply a convolution to `x_tensor` using weight and `conv_strides`.\n",
    " * We recommend you use same padding, but you're welcome to use any padding.\n",
    "* Add bias\n",
    "* Add a nonlinear activation to the convolution.\n",
    "* Apply Max Pooling using `pool_ksize` and `pool_strides`.\n",
    " * We recommend you use same padding, but you're welcome to use any padding.\n",
    "\n",
    "**Note:** You **can't** use [TensorFlow Layers](https://www.tensorflow.org/api_docs/python/tf/layers) or [TensorFlow Layers (contrib)](https://www.tensorflow.org/api_guides/python/contrib.layers) for **this** layer, but you can still use TensorFlow's [Neural Network](https://www.tensorflow.org/api_docs/python/tf/nn) package. You may still use the shortcut option for all the **other** layers."
   ]
  },
  {
   "cell_type": "code",
   "execution_count": 90,
   "metadata": {
    "collapsed": false,
    "deletable": true,
    "editable": true
   },
   "outputs": [
    {
     "name": "stdout",
     "output_type": "stream",
     "text": [
      "Tests Passed\n"
     ]
    }
   ],
   "source": [
    "def conv2d_maxpool(x_tensor, conv_num_outputs, conv_ksize, conv_strides, pool_ksize, pool_strides):\n",
    "    \"\"\"\n",
    "    Apply convolution then max pooling to x_tensor\n",
    "    :param x_tensor: TensorFlow Tensor\n",
    "    :param conv_num_outputs: Number of outputs for the convolutional layer\n",
    "    :param conv_ksize: kernal size 2-D Tuple for the convolutional layer\n",
    "    :param conv_strides: Stride 2-D Tuple for convolution\n",
    "    :param pool_ksize: kernal size 2-D Tuple for pool\n",
    "    :param pool_strides: Stride 2-D Tuple for pool\n",
    "    : return: A tensor that represents convolution and max pooling of x_tensor\n",
    "    \"\"\"\n",
    "    # TODO: Implement Function\n",
    "#     print(x_tensor, conv_num_outputs, conv_ksize, conv_strides, pool_ksize, pool_strides)\n",
    "    height, width, depth = x_tensor.get_shape().as_list()[1:]\n",
    "    \n",
    "    #weights and biases\n",
    "    weights = tf.Variable(tf.truncated_normal([conv_ksize[0], conv_ksize[1], depth, conv_num_outputs], stddev=0.1, mean=0.0))\n",
    "    biases = tf.Variable(tf.zeros(conv_num_outputs))\n",
    "    \n",
    "    #conv layer\n",
    "    conv_2d = tf.nn.conv2d(x_tensor, weights, strides=[1, conv_strides[0], conv_strides[1], 1], padding='SAME')\n",
    "    conv_2d = tf.nn.bias_add(conv_2d, biases)\n",
    "    conv_2d = tf.nn.relu(conv_2d)\n",
    "    \n",
    "    #max pooling\n",
    "    conv_2d = tf.nn.max_pool(conv_2d, ksize=[1, pool_ksize[0], pool_ksize[1], 1], strides=[1, pool_strides[0], pool_strides[1], 1], padding='VALID')\n",
    "    \n",
    "    return conv_2d\n",
    "\n",
    "\n",
    "\"\"\"\n",
    "DON'T MODIFY ANYTHING IN THIS CELL THAT IS BELOW THIS LINE\n",
    "\"\"\"\n",
    "tests.test_con_pool(conv2d_maxpool)"
   ]
  },
  {
   "cell_type": "markdown",
   "metadata": {
    "deletable": true,
    "editable": true
   },
   "source": [
    "### Flatten Layer\n",
    "Implement the `flatten` function to change the dimension of `x_tensor` from a 4-D tensor to a 2-D tensor.  The output should be the shape (*Batch Size*, *Flattened Image Size*). Shortcut option: you can use classes from the [TensorFlow Layers](https://www.tensorflow.org/api_docs/python/tf/layers) or [TensorFlow Layers (contrib)](https://www.tensorflow.org/api_guides/python/contrib.layers) packages for this layer. For more of a challenge, only use other TensorFlow packages."
   ]
  },
  {
   "cell_type": "code",
   "execution_count": 91,
   "metadata": {
    "collapsed": false,
    "deletable": true,
    "editable": true
   },
   "outputs": [
    {
     "name": "stdout",
     "output_type": "stream",
     "text": [
      "Tests Passed\n"
     ]
    }
   ],
   "source": [
    "def flatten(x_tensor):\n",
    "    \"\"\"\n",
    "    Flatten x_tensor to (Batch Size, Flattened Image Size)\n",
    "    : x_tensor: A tensor of size (Batch Size, ...), where ... are the image dimensions.\n",
    "    : return: A tensor of size (Batch Size, Flattened Image Size).\n",
    "    \"\"\"\n",
    "    # TODO: Implement Function\n",
    "#     print(x_tensor)\n",
    "    height, width, depth = x_tensor.get_shape().as_list()[1:]\n",
    "    return tf.reshape(x_tensor, [-1, height*width*depth])\n",
    "\n",
    "\n",
    "\"\"\"\n",
    "DON'T MODIFY ANYTHING IN THIS CELL THAT IS BELOW THIS LINE\n",
    "\"\"\"\n",
    "tests.test_flatten(flatten)"
   ]
  },
  {
   "cell_type": "markdown",
   "metadata": {
    "deletable": true,
    "editable": true
   },
   "source": [
    "### Fully-Connected Layer\n",
    "Implement the `fully_conn` function to apply a fully connected layer to `x_tensor` with the shape (*Batch Size*, *num_outputs*). Shortcut option: you can use classes from the [TensorFlow Layers](https://www.tensorflow.org/api_docs/python/tf/layers) or [TensorFlow Layers (contrib)](https://www.tensorflow.org/api_guides/python/contrib.layers) packages for this layer. For more of a challenge, only use other TensorFlow packages."
   ]
  },
  {
   "cell_type": "code",
   "execution_count": 92,
   "metadata": {
    "collapsed": false,
    "deletable": true,
    "editable": true
   },
   "outputs": [
    {
     "name": "stdout",
     "output_type": "stream",
     "text": [
      "Tests Passed\n"
     ]
    }
   ],
   "source": [
    "def fully_conn(x_tensor, num_outputs, keep_prob=0.5):\n",
    "    \"\"\"\n",
    "    Apply a fully connected layer to x_tensor using weight and bias\n",
    "    : x_tensor: A 2-D tensor where the first dimension is batch size.\n",
    "    : num_outputs: The number of output that the new tensor should be.\n",
    "    : return: A 2-D tensor where the second dimension is num_outputs.\n",
    "    \"\"\"\n",
    "    # TODO: Implement Function\n",
    "#     print(x_tensor, num_outputs)\n",
    "    w_dimension = x_tensor.get_shape().as_list()[1]\n",
    "    \n",
    "    #define weights and biases\n",
    "    fc_weights = tf.Variable(tf.truncated_normal([w_dimension, num_outputs], stddev=0.1, mean=0.0))\n",
    "    fc_biases = tf.Variable(tf.zeros(num_outputs))\n",
    "    \n",
    "    #fc layer\n",
    "    fc_layer = tf.add(tf.matmul(x_tensor, fc_weights), fc_biases)\n",
    "    fc_layer = tf.nn.relu(fc_layer)\n",
    "    fc_layer = tf.nn.dropout(fc_layer, keep_prob)\n",
    "    \n",
    "    return fc_layer\n",
    "\n",
    "\n",
    "\"\"\"\n",
    "DON'T MODIFY ANYTHING IN THIS CELL THAT IS BELOW THIS LINE\n",
    "\"\"\"\n",
    "tests.test_fully_conn(fully_conn)"
   ]
  },
  {
   "cell_type": "markdown",
   "metadata": {
    "deletable": true,
    "editable": true
   },
   "source": [
    "### Output Layer\n",
    "Implement the `output` function to apply a fully connected layer to `x_tensor` with the shape (*Batch Size*, *num_outputs*). Shortcut option: you can use classes from the [TensorFlow Layers](https://www.tensorflow.org/api_docs/python/tf/layers) or [TensorFlow Layers (contrib)](https://www.tensorflow.org/api_guides/python/contrib.layers) packages for this layer. For more of a challenge, only use other TensorFlow packages.\n",
    "\n",
    "**Note:** Activation, softmax, or cross entropy should **not** be applied to this."
   ]
  },
  {
   "cell_type": "code",
   "execution_count": 93,
   "metadata": {
    "collapsed": false,
    "deletable": true,
    "editable": true
   },
   "outputs": [
    {
     "name": "stdout",
     "output_type": "stream",
     "text": [
      "Tests Passed\n"
     ]
    }
   ],
   "source": [
    "def output(x_tensor, num_outputs):\n",
    "    \"\"\"\n",
    "    Apply a output layer to x_tensor using weight and bias\n",
    "    : x_tensor: A 2-D tensor where the first dimension is batch size.\n",
    "    : num_outputs: The number of output that the new tensor should be.\n",
    "    : return: A 2-D tensor where the second dimension is num_outputs.\n",
    "    \"\"\"\n",
    "    # TODO: Implement Function\n",
    "#     print(x_tensor, num_outputs)\n",
    "    w_dimension = x_tensor.get_shape().as_list()[1]\n",
    "    \n",
    "    #output weights and biases \n",
    "    output_weights = tf.Variable(tf.truncated_normal([w_dimension, num_outputs], stddev=0.1, mean=0.0))\n",
    "    output_biases = tf.Variable(tf.zeros(num_outputs))\n",
    "    #output layer\n",
    "    output_layer = tf.add(tf.matmul(x_tensor, output_weights), output_biases)\n",
    "    \n",
    "    return output_layer\n",
    "\n",
    "\n",
    "\"\"\"\n",
    "DON'T MODIFY ANYTHING IN THIS CELL THAT IS BELOW THIS LINE\n",
    "\"\"\"\n",
    "tests.test_output(output)"
   ]
  },
  {
   "cell_type": "markdown",
   "metadata": {
    "deletable": true,
    "editable": true
   },
   "source": [
    "### Create Convolutional Model\n",
    "Implement the function `conv_net` to create a convolutional neural network model. The function takes in a batch of images, `x`, and outputs logits.  Use the layers you created above to create this model:\n",
    "\n",
    "* Apply 1, 2, or 3 Convolution and Max Pool layers\n",
    "* Apply a Flatten Layer\n",
    "* Apply 1, 2, or 3 Fully Connected Layers\n",
    "* Apply an Output Layer\n",
    "* Return the output\n",
    "* Apply [TensorFlow's Dropout](https://www.tensorflow.org/api_docs/python/tf/nn/dropout) to one or more layers in the model using `keep_prob`. "
   ]
  },
  {
   "cell_type": "code",
   "execution_count": 133,
   "metadata": {
    "collapsed": false,
    "deletable": true,
    "editable": true
   },
   "outputs": [
    {
     "name": "stdout",
     "output_type": "stream",
     "text": [
      "Neural Network Built!\n"
     ]
    }
   ],
   "source": [
    "def conv_net(x_tensor, keep_prob):\n",
    "    \"\"\"\n",
    "    Create a convolutional neural network model\n",
    "    : x: Placeholder tensor that holds image data.\n",
    "    : keep_prob: Placeholder tensor that hold dropout keep probability.\n",
    "    : return: Tensor that represents logits\n",
    "    \"\"\"\n",
    "    # TODO: Apply 1, 2, or 3 Convolution and Max Pool layers\n",
    "    #    Play around with different number of outputs, kernel size and stride\n",
    "    # Function Definition from Above:\n",
    "    x_tensor = x\n",
    "    conv_num_outputs = 16\n",
    "    conv_ksize = (2, 2)\n",
    "    conv_strides = (1, 1)\n",
    "    pool_ksize = (1, 1)\n",
    "    pool_strides = (1, 1)\n",
    "    conv_net = conv2d_maxpool(x_tensor, conv_num_outputs, conv_ksize, conv_strides, pool_ksize, pool_strides)\n",
    "    \n",
    "    conv_num_outputs = 32\n",
    "    conv_ksize = (2, 2)\n",
    "    conv_strides = (1, 1)\n",
    "    pool_ksize = (1, 1)\n",
    "    pool_strides = (1, 1)\n",
    "    conv_net = conv2d_maxpool(conv_net, conv_num_outputs, conv_ksize, conv_strides, pool_ksize, pool_strides)\n",
    "    \n",
    "    conv_num_outputs = 64\n",
    "    conv_ksize = (3, 3)\n",
    "    conv_strides = (2, 2)\n",
    "    pool_ksize = (3, 3)\n",
    "    pool_strides = (2, 2)\n",
    "    conv_net = conv2d_maxpool(conv_net, conv_num_outputs, conv_ksize, conv_strides, pool_ksize, pool_strides)\n",
    "    \n",
    "    conv_num_outputs = 128\n",
    "    conv_ksize = (3, 3)\n",
    "    conv_strides = (2, 2)\n",
    "    pool_ksize = (3, 3)\n",
    "    pool_strides = (2, 2)\n",
    "    conv_net = conv2d_maxpool(conv_net, conv_num_outputs, conv_ksize, conv_strides, pool_ksize, pool_strides)\n",
    "    \n",
    "\n",
    "    # TODO: Apply a Flatten Layer\n",
    "    # Function Definition from Above:\n",
    "    conv_net = flatten(conv_net)\n",
    "\n",
    "\n",
    "    # TODO: Apply 1, 2, or 3 Fully Connected Layers\n",
    "    #    Play around with different number of outputs\n",
    "    # Function Definition from Above:\n",
    "    conv_net = fully_conn(conv_net, 512, keep_prob)\n",
    "    conv_net = fully_conn(conv_net, 256, keep_prob)\n",
    "    conv_net = fully_conn(conv_net, 128, keep_prob)\n",
    "\n",
    "    # TODO: Apply an Output Layer\n",
    "    #    Set this to the number of classes\n",
    "    # Function Definition from Above:\n",
    "    conv_net = output(conv_net, 10)\n",
    "\n",
    "\n",
    "    # TODO: return output\n",
    "    return conv_net\n",
    "\n",
    "\n",
    "\"\"\"\n",
    "DON'T MODIFY ANYTHING IN THIS CELL THAT IS BELOW THIS LINE\n",
    "\"\"\"\n",
    "\n",
    "##############################\n",
    "## Build the Neural Network ##\n",
    "##############################\n",
    "\n",
    "# Remove previous weights, bias, inputs, etc..\n",
    "tf.reset_default_graph()\n",
    "\n",
    "# Inputs\n",
    "x = neural_net_image_input((32, 32, 3))\n",
    "y = neural_net_label_input(10)\n",
    "keep_prob = neural_net_keep_prob_input()\n",
    "\n",
    "# Model\n",
    "logits = conv_net(x, keep_prob)\n",
    "\n",
    "# Name logits Tensor, so that is can be loaded from disk after training\n",
    "logits = tf.identity(logits, name='logits')\n",
    "\n",
    "# Loss and Optimizer\n",
    "cost = tf.reduce_mean(tf.nn.softmax_cross_entropy_with_logits(logits=logits, labels=y))\n",
    "optimizer = tf.train.AdamOptimizer().minimize(cost)\n",
    "\n",
    "# Accuracy\n",
    "correct_pred = tf.equal(tf.argmax(logits, 1), tf.argmax(y, 1))\n",
    "accuracy = tf.reduce_mean(tf.cast(correct_pred, tf.float32), name='accuracy')\n",
    "\n",
    "tests.test_conv_net(conv_net)\n"
   ]
  },
  {
   "cell_type": "markdown",
   "metadata": {
    "deletable": true,
    "editable": true
   },
   "source": [
    "## Train the Neural Network\n",
    "### Single Optimization\n",
    "Implement the function `train_neural_network` to do a single optimization.  The optimization should use `optimizer` to optimize in `session` with a `feed_dict` of the following:\n",
    "* `x` for image input\n",
    "* `y` for labels\n",
    "* `keep_prob` for keep probability for dropout\n",
    "\n",
    "This function will be called for each batch, so `tf.global_variables_initializer()` has already been called.\n",
    "\n",
    "Note: Nothing needs to be returned. This function is only optimizing the neural network."
   ]
  },
  {
   "cell_type": "code",
   "execution_count": 134,
   "metadata": {
    "collapsed": false,
    "deletable": true,
    "editable": true
   },
   "outputs": [
    {
     "name": "stdout",
     "output_type": "stream",
     "text": [
      "Tests Passed\n"
     ]
    }
   ],
   "source": [
    "def train_neural_network(session, optimizer, keep_probability, feature_batch, label_batch):\n",
    "    \"\"\"\n",
    "    Optimize the session on a batch of images and labels\n",
    "    : session: Current TensorFlow session\n",
    "    : optimizer: TensorFlow optimizer function\n",
    "    : keep_probability: keep probability\n",
    "    : feature_batch: Batch of Numpy image data\n",
    "    : label_batch: Batch of Numpy label data\n",
    "    \"\"\"\n",
    "    # TODO: Implement Function\n",
    "    session.run(optimizer, feed_dict={x: feature_batch, y: label_batch, keep_prob: keep_probability})\n",
    "        \n",
    "        \n",
    "\n",
    "\"\"\"\n",
    "DON'T MODIFY ANYTHING IN THIS CELL THAT IS BELOW THIS LINE\n",
    "\"\"\"\n",
    "tests.test_train_nn(train_neural_network)"
   ]
  },
  {
   "cell_type": "markdown",
   "metadata": {
    "deletable": true,
    "editable": true
   },
   "source": [
    "### Show Stats\n",
    "Implement the function `print_stats` to print loss and validation accuracy.  Use the global variables `valid_features` and `valid_labels` to calculate validation accuracy.  Use a keep probability of `1.0` to calculate the loss and validation accuracy."
   ]
  },
  {
   "cell_type": "code",
   "execution_count": 135,
   "metadata": {
    "collapsed": false,
    "deletable": true,
    "editable": true
   },
   "outputs": [],
   "source": [
    "def print_stats(session, feature_batch, label_batch, cost, accuracy):\n",
    "    \"\"\"\n",
    "    Print information about loss and validation accuracy\n",
    "    : session: Current TensorFlow session\n",
    "    : feature_batch: Batch of Numpy image data\n",
    "    : label_batch: Batch of Numpy label data\n",
    "    : cost: TensorFlow cost function\n",
    "    : accuracy: TensorFlow accuracy function\n",
    "    \"\"\"\n",
    "    # TODO: Implement Function\n",
    "    loss = session.run(cost, feed_dict={x: feature_batch, y: label_batch, keep_prob: 1.0})\n",
    "    validation_accuracy = session.run(accuracy, feed_dict={x: valid_features, y: valid_labels, keep_prob: 1.0})\n",
    "    print('Loss of the model :: {}'.format(loss))\n",
    "    print('Validation Accuracy of the model :: {}'.format(validation_accuracy))"
   ]
  },
  {
   "cell_type": "markdown",
   "metadata": {
    "deletable": true,
    "editable": true
   },
   "source": [
    "### Hyperparameters\n",
    "Tune the following parameters:\n",
    "* Set `epochs` to the number of iterations until the network stops learning or start overfitting\n",
    "* Set `batch_size` to the highest number that your machine has memory for.  Most people set them to common sizes of memory:\n",
    " * 64\n",
    " * 128\n",
    " * 256\n",
    " * ...\n",
    "* Set `keep_probability` to the probability of keeping a node using dropout"
   ]
  },
  {
   "cell_type": "code",
   "execution_count": 136,
   "metadata": {
    "collapsed": true,
    "deletable": true,
    "editable": true
   },
   "outputs": [],
   "source": [
    "# TODO: Tune Parameters\n",
    "epochs = 30\n",
    "batch_size = 16\n",
    "keep_probability = 0.60"
   ]
  },
  {
   "cell_type": "markdown",
   "metadata": {
    "deletable": true,
    "editable": true
   },
   "source": [
    "### Train on a Single CIFAR-10 Batch\n",
    "Instead of training the neural network on all the CIFAR-10 batches of data, let's use a single batch. This should save time while you iterate on the model to get a better accuracy.  Once the final validation accuracy is 50% or greater, run the model on all the data in the next section."
   ]
  },
  {
   "cell_type": "code",
   "execution_count": 137,
   "metadata": {
    "collapsed": false,
    "deletable": true,
    "editable": true,
    "scrolled": true
   },
   "outputs": [
    {
     "name": "stdout",
     "output_type": "stream",
     "text": [
      "Checking the Training on a Single Batch...\n",
      "Epoch  1, CIFAR-10 Batch 1:  Loss of the model :: 1.6372772455215454\n",
      "Validation Accuracy of the model :: 0.2581999599933624\n",
      "Epoch  2, CIFAR-10 Batch 1:  Loss of the model :: 1.5226943492889404\n",
      "Validation Accuracy of the model :: 0.3551999628543854\n",
      "Epoch  3, CIFAR-10 Batch 1:  Loss of the model :: 1.267608642578125\n",
      "Validation Accuracy of the model :: 0.38019999861717224\n",
      "Epoch  4, CIFAR-10 Batch 1:  Loss of the model :: 1.351427435874939\n",
      "Validation Accuracy of the model :: 0.40859997272491455\n",
      "Epoch  5, CIFAR-10 Batch 1:  Loss of the model :: 1.2642896175384521\n",
      "Validation Accuracy of the model :: 0.4437999725341797\n",
      "Epoch  6, CIFAR-10 Batch 1:  Loss of the model :: 0.9905891418457031\n",
      "Validation Accuracy of the model :: 0.4565999507904053\n",
      "Epoch  7, CIFAR-10 Batch 1:  Loss of the model :: 1.0376336574554443\n",
      "Validation Accuracy of the model :: 0.4607999920845032\n",
      "Epoch  8, CIFAR-10 Batch 1:  Loss of the model :: 1.0862932205200195\n",
      "Validation Accuracy of the model :: 0.4495999813079834\n",
      "Epoch  9, CIFAR-10 Batch 1:  Loss of the model :: 0.9028133749961853\n",
      "Validation Accuracy of the model :: 0.48059993982315063\n",
      "Epoch 10, CIFAR-10 Batch 1:  Loss of the model :: 1.1766536235809326\n",
      "Validation Accuracy of the model :: 0.454399973154068\n",
      "Epoch 11, CIFAR-10 Batch 1:  Loss of the model :: 0.995159387588501\n",
      "Validation Accuracy of the model :: 0.4753999710083008\n",
      "Epoch 12, CIFAR-10 Batch 1:  Loss of the model :: 0.7644556760787964\n",
      "Validation Accuracy of the model :: 0.4991999566555023\n",
      "Epoch 13, CIFAR-10 Batch 1:  Loss of the model :: 0.768251895904541\n",
      "Validation Accuracy of the model :: 0.5073999762535095\n",
      "Epoch 14, CIFAR-10 Batch 1:  Loss of the model :: 0.5853132009506226\n",
      "Validation Accuracy of the model :: 0.5037999153137207\n",
      "Epoch 15, CIFAR-10 Batch 1:  Loss of the model :: 0.465503454208374\n",
      "Validation Accuracy of the model :: 0.5071999430656433\n",
      "Epoch 16, CIFAR-10 Batch 1:  Loss of the model :: 0.23336607217788696\n",
      "Validation Accuracy of the model :: 0.506600022315979\n",
      "Epoch 17, CIFAR-10 Batch 1:  Loss of the model :: 0.16801390051841736\n",
      "Validation Accuracy of the model :: 0.5069999694824219\n",
      "Epoch 18, CIFAR-10 Batch 1:  Loss of the model :: 0.09365877509117126\n",
      "Validation Accuracy of the model :: 0.5073999762535095\n",
      "Epoch 19, CIFAR-10 Batch 1:  Loss of the model :: 0.17926228046417236\n",
      "Validation Accuracy of the model :: 0.5131999254226685\n",
      "Epoch 20, CIFAR-10 Batch 1:  Loss of the model :: 0.10137136280536652\n",
      "Validation Accuracy of the model :: 0.4984000027179718\n",
      "Epoch 21, CIFAR-10 Batch 1:  Loss of the model :: 0.13917897641658783\n",
      "Validation Accuracy of the model :: 0.5235999822616577\n",
      "Epoch 22, CIFAR-10 Batch 1:  Loss of the model :: 0.047995053231716156\n",
      "Validation Accuracy of the model :: 0.5091999173164368\n",
      "Epoch 23, CIFAR-10 Batch 1:  Loss of the model :: 0.14469009637832642\n",
      "Validation Accuracy of the model :: 0.5021999478340149\n",
      "Epoch 24, CIFAR-10 Batch 1:  Loss of the model :: 0.08619667589664459\n",
      "Validation Accuracy of the model :: 0.5163999199867249\n",
      "Epoch 25, CIFAR-10 Batch 1:  Loss of the model :: 0.03681354224681854\n",
      "Validation Accuracy of the model :: 0.5171999335289001\n",
      "Epoch 26, CIFAR-10 Batch 1:  Loss of the model :: 0.029325095936655998\n",
      "Validation Accuracy of the model :: 0.5089999437332153\n",
      "Epoch 27, CIFAR-10 Batch 1:  Loss of the model :: 0.06126050651073456\n",
      "Validation Accuracy of the model :: 0.49939993023872375\n",
      "Epoch 28, CIFAR-10 Batch 1:  Loss of the model :: 0.0445915050804615\n",
      "Validation Accuracy of the model :: 0.5073999166488647\n",
      "Epoch 29, CIFAR-10 Batch 1:  Loss of the model :: 0.05416560918092728\n",
      "Validation Accuracy of the model :: 0.5101999640464783\n",
      "Epoch 30, CIFAR-10 Batch 1:  Loss of the model :: 0.004183737561106682\n",
      "Validation Accuracy of the model :: 0.5193999409675598\n"
     ]
    }
   ],
   "source": [
    "\"\"\"\n",
    "DON'T MODIFY ANYTHING IN THIS CELL\n",
    "\"\"\"\n",
    "print('Checking the Training on a Single Batch...')\n",
    "with tf.Session() as sess:\n",
    "    # Initializing the variables\n",
    "    sess.run(tf.global_variables_initializer())\n",
    "    \n",
    "    # Training cycle\n",
    "    for epoch in range(epochs):\n",
    "        batch_i = 1\n",
    "        for batch_features, batch_labels in helper.load_preprocess_training_batch(batch_i, batch_size):\n",
    "            train_neural_network(sess, optimizer, keep_probability, batch_features, batch_labels)\n",
    "        print('Epoch {:>2}, CIFAR-10 Batch {}:  '.format(epoch + 1, batch_i), end='')\n",
    "        print_stats(sess, batch_features, batch_labels, cost, accuracy)"
   ]
  },
  {
   "cell_type": "markdown",
   "metadata": {
    "deletable": true,
    "editable": true
   },
   "source": [
    "### Fully Train the Model\n",
    "Now that you got a good accuracy with a single CIFAR-10 batch, try it with all five batches."
   ]
  },
  {
   "cell_type": "code",
   "execution_count": 138,
   "metadata": {
    "collapsed": false,
    "deletable": true,
    "editable": true,
    "scrolled": true
   },
   "outputs": [
    {
     "name": "stdout",
     "output_type": "stream",
     "text": [
      "Training...\n",
      "Epoch  1, CIFAR-10 Batch 1:  Loss of the model :: 1.7183256149291992\n",
      "Validation Accuracy of the model :: 0.2624000012874603\n",
      "Epoch  1, CIFAR-10 Batch 2:  Loss of the model :: 1.7964483499526978\n",
      "Validation Accuracy of the model :: 0.3179999887943268\n",
      "Epoch  1, CIFAR-10 Batch 3:  Loss of the model :: 1.4212250709533691\n",
      "Validation Accuracy of the model :: 0.3511999845504761\n",
      "Epoch  1, CIFAR-10 Batch 4:  Loss of the model :: 1.837746500968933\n",
      "Validation Accuracy of the model :: 0.3901999592781067\n",
      "Epoch  1, CIFAR-10 Batch 5:  Loss of the model :: 2.1163225173950195\n",
      "Validation Accuracy of the model :: 0.38999998569488525\n",
      "Epoch  2, CIFAR-10 Batch 1:  Loss of the model :: 1.515575885772705\n",
      "Validation Accuracy of the model :: 0.45799994468688965\n",
      "Epoch  2, CIFAR-10 Batch 2:  Loss of the model :: 1.3890337944030762\n",
      "Validation Accuracy of the model :: 0.40779995918273926\n",
      "Epoch  2, CIFAR-10 Batch 3:  Loss of the model :: 1.703385591506958\n",
      "Validation Accuracy of the model :: 0.48719996213912964\n",
      "Epoch  2, CIFAR-10 Batch 4:  Loss of the model :: 1.494842529296875\n",
      "Validation Accuracy of the model :: 0.5031999349594116\n",
      "Epoch  2, CIFAR-10 Batch 5:  Loss of the model :: 1.8292450904846191\n",
      "Validation Accuracy of the model :: 0.47359994053840637\n",
      "Epoch  3, CIFAR-10 Batch 1:  Loss of the model :: 1.4020057916641235\n",
      "Validation Accuracy of the model :: 0.5141999125480652\n",
      "Epoch  3, CIFAR-10 Batch 2:  Loss of the model :: 1.1545474529266357\n",
      "Validation Accuracy of the model :: 0.5161999464035034\n",
      "Epoch  3, CIFAR-10 Batch 3:  Loss of the model :: 1.2005971670150757\n",
      "Validation Accuracy of the model :: 0.5293999314308167\n",
      "Epoch  3, CIFAR-10 Batch 4:  Loss of the model :: 1.3664941787719727\n",
      "Validation Accuracy of the model :: 0.5425999164581299\n",
      "Epoch  3, CIFAR-10 Batch 5:  Loss of the model :: 1.6178092956542969\n",
      "Validation Accuracy of the model :: 0.49619996547698975\n",
      "Epoch  4, CIFAR-10 Batch 1:  Loss of the model :: 1.3453092575073242\n",
      "Validation Accuracy of the model :: 0.5581998825073242\n",
      "Epoch  4, CIFAR-10 Batch 2:  Loss of the model :: 0.6818597316741943\n",
      "Validation Accuracy of the model :: 0.5667999386787415\n",
      "Epoch  4, CIFAR-10 Batch 3:  Loss of the model :: 1.1796367168426514\n",
      "Validation Accuracy of the model :: 0.5549999475479126\n",
      "Epoch  4, CIFAR-10 Batch 4:  Loss of the model :: 0.9851292371749878\n",
      "Validation Accuracy of the model :: 0.5869998931884766\n",
      "Epoch  4, CIFAR-10 Batch 5:  Loss of the model :: 1.467533826828003\n",
      "Validation Accuracy of the model :: 0.5705999135971069\n",
      "Epoch  5, CIFAR-10 Batch 1:  Loss of the model :: 1.197317361831665\n",
      "Validation Accuracy of the model :: 0.5871999859809875\n",
      "Epoch  5, CIFAR-10 Batch 2:  Loss of the model :: 0.6776612997055054\n",
      "Validation Accuracy of the model :: 0.5779999494552612\n",
      "Epoch  5, CIFAR-10 Batch 3:  Loss of the model :: 1.1092861890792847\n",
      "Validation Accuracy of the model :: 0.5673999190330505\n",
      "Epoch  5, CIFAR-10 Batch 4:  Loss of the model :: 1.3242950439453125\n",
      "Validation Accuracy of the model :: 0.5989999175071716\n",
      "Epoch  5, CIFAR-10 Batch 5:  Loss of the model :: 1.2320821285247803\n",
      "Validation Accuracy of the model :: 0.6037999391555786\n",
      "Epoch  6, CIFAR-10 Batch 1:  Loss of the model :: 0.7975168228149414\n",
      "Validation Accuracy of the model :: 0.6071999073028564\n",
      "Epoch  6, CIFAR-10 Batch 2:  Loss of the model :: 0.7284461259841919\n",
      "Validation Accuracy of the model :: 0.6067999601364136\n",
      "Epoch  6, CIFAR-10 Batch 3:  Loss of the model :: 1.2684941291809082\n",
      "Validation Accuracy of the model :: 0.5927998423576355\n",
      "Epoch  6, CIFAR-10 Batch 4:  Loss of the model :: 0.8512675166130066\n",
      "Validation Accuracy of the model :: 0.6155998706817627\n",
      "Epoch  6, CIFAR-10 Batch 5:  Loss of the model :: 1.1335252523422241\n",
      "Validation Accuracy of the model :: 0.5921999216079712\n",
      "Epoch  7, CIFAR-10 Batch 1:  Loss of the model :: 1.0285066366195679\n",
      "Validation Accuracy of the model :: 0.6065998673439026\n",
      "Epoch  7, CIFAR-10 Batch 2:  Loss of the model :: 0.8401839733123779\n",
      "Validation Accuracy of the model :: 0.6231998801231384\n",
      "Epoch  7, CIFAR-10 Batch 3:  Loss of the model :: 1.1550979614257812\n",
      "Validation Accuracy of the model :: 0.6157999038696289\n",
      "Epoch  7, CIFAR-10 Batch 4:  Loss of the model :: 0.758115828037262\n",
      "Validation Accuracy of the model :: 0.6153998970985413\n",
      "Epoch  7, CIFAR-10 Batch 5:  Loss of the model :: 1.3059477806091309\n",
      "Validation Accuracy of the model :: 0.6137998700141907\n",
      "Epoch  8, CIFAR-10 Batch 1:  Loss of the model :: 0.7549765110015869\n",
      "Validation Accuracy of the model :: 0.6215999126434326\n",
      "Epoch  8, CIFAR-10 Batch 2:  Loss of the model :: 0.8225829005241394\n",
      "Validation Accuracy of the model :: 0.6281998157501221\n",
      "Epoch  8, CIFAR-10 Batch 3:  Loss of the model :: 0.9293903112411499\n",
      "Validation Accuracy of the model :: 0.6355998516082764\n",
      "Epoch  8, CIFAR-10 Batch 4:  Loss of the model :: 0.739819347858429\n",
      "Validation Accuracy of the model :: 0.6213998794555664\n",
      "Epoch  8, CIFAR-10 Batch 5:  Loss of the model :: 1.601912498474121\n",
      "Validation Accuracy of the model :: 0.6285998821258545\n",
      "Epoch  9, CIFAR-10 Batch 1:  Loss of the model :: 0.6399874687194824\n",
      "Validation Accuracy of the model :: 0.619399905204773\n",
      "Epoch  9, CIFAR-10 Batch 2:  Loss of the model :: 0.542939305305481\n",
      "Validation Accuracy of the model :: 0.6381999254226685\n",
      "Epoch  9, CIFAR-10 Batch 3:  Loss of the model :: 1.1298871040344238\n",
      "Validation Accuracy of the model :: 0.6097999215126038\n",
      "Epoch  9, CIFAR-10 Batch 4:  Loss of the model :: 0.8122930526733398\n",
      "Validation Accuracy of the model :: 0.6317999362945557\n",
      "Epoch  9, CIFAR-10 Batch 5:  Loss of the model :: 1.0173401832580566\n",
      "Validation Accuracy of the model :: 0.630599856376648\n",
      "Epoch 10, CIFAR-10 Batch 1:  Loss of the model :: 0.8229576349258423\n",
      "Validation Accuracy of the model :: 0.6295998692512512\n",
      "Epoch 10, CIFAR-10 Batch 2:  Loss of the model :: 0.7891614437103271\n",
      "Validation Accuracy of the model :: 0.6241998672485352\n",
      "Epoch 10, CIFAR-10 Batch 3:  Loss of the model :: 0.8033560514450073\n",
      "Validation Accuracy of the model :: 0.6297999024391174\n",
      "Epoch 10, CIFAR-10 Batch 4:  Loss of the model :: 0.5883800983428955\n",
      "Validation Accuracy of the model :: 0.6367999315261841\n",
      "Epoch 10, CIFAR-10 Batch 5:  Loss of the model :: 1.1454594135284424\n",
      "Validation Accuracy of the model :: 0.6349998712539673\n",
      "Epoch 11, CIFAR-10 Batch 1:  Loss of the model :: 0.8569096326828003\n",
      "Validation Accuracy of the model :: 0.6071999669075012\n",
      "Epoch 11, CIFAR-10 Batch 2:  Loss of the model :: 0.5053139925003052\n",
      "Validation Accuracy of the model :: 0.642599880695343\n",
      "Epoch 11, CIFAR-10 Batch 3:  Loss of the model :: 0.8777225613594055\n",
      "Validation Accuracy of the model :: 0.6513999104499817\n",
      "Epoch 11, CIFAR-10 Batch 4:  Loss of the model :: 0.5546096563339233\n",
      "Validation Accuracy of the model :: 0.637199878692627\n",
      "Epoch 11, CIFAR-10 Batch 5:  Loss of the model :: 1.393252968788147\n",
      "Validation Accuracy of the model :: 0.6327998638153076\n",
      "Epoch 12, CIFAR-10 Batch 1:  Loss of the model :: 0.816168487071991\n",
      "Validation Accuracy of the model :: 0.6317999362945557\n",
      "Epoch 12, CIFAR-10 Batch 2:  Loss of the model :: 0.5512660145759583\n",
      "Validation Accuracy of the model :: 0.6391999125480652\n",
      "Epoch 12, CIFAR-10 Batch 3:  Loss of the model :: 0.8924103379249573\n",
      "Validation Accuracy of the model :: 0.6269999146461487\n",
      "Epoch 12, CIFAR-10 Batch 4:  Loss of the model :: 0.49793535470962524\n",
      "Validation Accuracy of the model :: 0.6457998752593994\n",
      "Epoch 12, CIFAR-10 Batch 5:  Loss of the model :: 1.0166258811950684\n",
      "Validation Accuracy of the model :: 0.6443999409675598\n",
      "Epoch 13, CIFAR-10 Batch 1:  Loss of the model :: 0.8017095923423767\n",
      "Validation Accuracy of the model :: 0.6345999240875244\n",
      "Epoch 13, CIFAR-10 Batch 2:  Loss of the model :: 0.4857926368713379\n",
      "Validation Accuracy of the model :: 0.6523998975753784\n",
      "Epoch 13, CIFAR-10 Batch 3:  Loss of the model :: 0.7982301115989685\n",
      "Validation Accuracy of the model :: 0.6501998901367188\n",
      "Epoch 13, CIFAR-10 Batch 4:  Loss of the model :: 0.5121142864227295\n",
      "Validation Accuracy of the model :: 0.6363998651504517\n",
      "Epoch 13, CIFAR-10 Batch 5:  Loss of the model :: 1.2506697177886963\n",
      "Validation Accuracy of the model :: 0.6363998651504517\n",
      "Epoch 14, CIFAR-10 Batch 1:  Loss of the model :: 0.7173846960067749\n",
      "Validation Accuracy of the model :: 0.6329998970031738\n",
      "Epoch 14, CIFAR-10 Batch 2:  Loss of the model :: 0.3498271107673645\n",
      "Validation Accuracy of the model :: 0.6529998779296875\n",
      "Epoch 14, CIFAR-10 Batch 3:  Loss of the model :: 0.7007960081100464\n",
      "Validation Accuracy of the model :: 0.6421998739242554\n",
      "Epoch 14, CIFAR-10 Batch 4:  Loss of the model :: 0.35526999831199646\n",
      "Validation Accuracy of the model :: 0.6445998549461365\n",
      "Epoch 14, CIFAR-10 Batch 5:  Loss of the model :: 0.964575469493866\n",
      "Validation Accuracy of the model :: 0.6649998426437378\n",
      "Epoch 15, CIFAR-10 Batch 1:  Loss of the model :: 0.3589446246623993\n",
      "Validation Accuracy of the model :: 0.6381998658180237\n",
      "Epoch 15, CIFAR-10 Batch 2:  Loss of the model :: 0.33128979802131653\n",
      "Validation Accuracy of the model :: 0.644399881362915\n",
      "Epoch 15, CIFAR-10 Batch 3:  Loss of the model :: 0.7097456455230713\n",
      "Validation Accuracy of the model :: 0.6577998995780945\n",
      "Epoch 15, CIFAR-10 Batch 4:  Loss of the model :: 0.47340837121009827\n",
      "Validation Accuracy of the model :: 0.6431999206542969\n",
      "Epoch 15, CIFAR-10 Batch 5:  Loss of the model :: 0.8054400682449341\n",
      "Validation Accuracy of the model :: 0.6609998941421509\n",
      "Epoch 16, CIFAR-10 Batch 1:  Loss of the model :: 0.7992979288101196\n",
      "Validation Accuracy of the model :: 0.649199903011322\n",
      "Epoch 16, CIFAR-10 Batch 2:  Loss of the model :: 0.42968007922172546\n",
      "Validation Accuracy of the model :: 0.6481999158859253\n",
      "Epoch 16, CIFAR-10 Batch 3:  Loss of the model :: 0.6502475738525391\n",
      "Validation Accuracy of the model :: 0.6475998759269714\n",
      "Epoch 16, CIFAR-10 Batch 4:  Loss of the model :: 0.3361853063106537\n",
      "Validation Accuracy of the model :: 0.6589999198913574\n",
      "Epoch 16, CIFAR-10 Batch 5:  Loss of the model :: 0.937000036239624\n",
      "Validation Accuracy of the model :: 0.6457998752593994\n",
      "Epoch 17, CIFAR-10 Batch 1:  Loss of the model :: 0.7174712419509888\n",
      "Validation Accuracy of the model :: 0.6461998820304871\n",
      "Epoch 17, CIFAR-10 Batch 2:  Loss of the model :: 0.2351035475730896\n",
      "Validation Accuracy of the model :: 0.6471998691558838\n",
      "Epoch 17, CIFAR-10 Batch 3:  Loss of the model :: 0.8631116151809692\n",
      "Validation Accuracy of the model :: 0.6365999579429626\n",
      "Epoch 17, CIFAR-10 Batch 4:  Loss of the model :: 0.41735726594924927\n",
      "Validation Accuracy of the model :: 0.6343998312950134\n",
      "Epoch 17, CIFAR-10 Batch 5:  Loss of the model :: 0.938122570514679\n",
      "Validation Accuracy of the model :: 0.6559999585151672\n",
      "Epoch 18, CIFAR-10 Batch 1:  Loss of the model :: 0.7955684065818787\n",
      "Validation Accuracy of the model :: 0.6373999118804932\n",
      "Epoch 18, CIFAR-10 Batch 2:  Loss of the model :: 0.3409610390663147\n",
      "Validation Accuracy of the model :: 0.6547999382019043\n",
      "Epoch 18, CIFAR-10 Batch 3:  Loss of the model :: 0.5390382409095764\n",
      "Validation Accuracy of the model :: 0.665199875831604\n",
      "Epoch 18, CIFAR-10 Batch 4:  Loss of the model :: 0.6695635914802551\n",
      "Validation Accuracy of the model :: 0.6493999361991882\n",
      "Epoch 18, CIFAR-10 Batch 5:  Loss of the model :: 0.6090911030769348\n",
      "Validation Accuracy of the model :: 0.6513999104499817\n",
      "Epoch 19, CIFAR-10 Batch 1:  Loss of the model :: 0.4942709803581238\n",
      "Validation Accuracy of the model :: 0.6517998576164246\n",
      "Epoch 19, CIFAR-10 Batch 2:  Loss of the model :: 0.24867507815361023\n",
      "Validation Accuracy of the model :: 0.6517999172210693\n",
      "Epoch 19, CIFAR-10 Batch 3:  Loss of the model :: 0.6531869769096375\n",
      "Validation Accuracy of the model :: 0.6611998677253723\n",
      "Epoch 19, CIFAR-10 Batch 4:  Loss of the model :: 0.4441171884536743\n",
      "Validation Accuracy of the model :: 0.6559998989105225\n",
      "Epoch 19, CIFAR-10 Batch 5:  Loss of the model :: 1.0301735401153564\n",
      "Validation Accuracy of the model :: 0.6569998860359192\n",
      "Epoch 20, CIFAR-10 Batch 1:  Loss of the model :: 0.5632171630859375\n",
      "Validation Accuracy of the model :: 0.6407999396324158\n",
      "Epoch 20, CIFAR-10 Batch 2:  Loss of the model :: 0.3217216730117798\n",
      "Validation Accuracy of the model :: 0.6473998427391052\n",
      "Epoch 20, CIFAR-10 Batch 3:  Loss of the model :: 0.5986527800559998\n",
      "Validation Accuracy of the model :: 0.6513999104499817\n",
      "Epoch 20, CIFAR-10 Batch 4:  Loss of the model :: 0.5046440362930298\n",
      "Validation Accuracy of the model :: 0.6595999002456665\n",
      "Epoch 20, CIFAR-10 Batch 5:  Loss of the model :: 1.0292198657989502\n",
      "Validation Accuracy of the model :: 0.6495999097824097\n",
      "Epoch 21, CIFAR-10 Batch 1:  Loss of the model :: 0.6369178295135498\n",
      "Validation Accuracy of the model :: 0.6517998576164246\n",
      "Epoch 21, CIFAR-10 Batch 2:  Loss of the model :: 0.24749276041984558\n",
      "Validation Accuracy of the model :: 0.6573998928070068\n",
      "Epoch 21, CIFAR-10 Batch 3:  Loss of the model :: 0.5008053779602051\n",
      "Validation Accuracy of the model :: 0.6521998643875122\n",
      "Epoch 21, CIFAR-10 Batch 4:  Loss of the model :: 0.5215762853622437\n",
      "Validation Accuracy of the model :: 0.6457998752593994\n",
      "Epoch 21, CIFAR-10 Batch 5:  Loss of the model :: 0.8887655735015869\n",
      "Validation Accuracy of the model :: 0.6649999022483826\n",
      "Epoch 22, CIFAR-10 Batch 1:  Loss of the model :: 0.5525935888290405\n",
      "Validation Accuracy of the model :: 0.650399923324585\n",
      "Epoch 22, CIFAR-10 Batch 2:  Loss of the model :: 0.3458004295825958\n",
      "Validation Accuracy of the model :: 0.6589999198913574\n",
      "Epoch 22, CIFAR-10 Batch 3:  Loss of the model :: 0.2047170251607895\n",
      "Validation Accuracy of the model :: 0.6567999124526978\n",
      "Epoch 22, CIFAR-10 Batch 4:  Loss of the model :: 0.492411732673645\n",
      "Validation Accuracy of the model :: 0.6561998724937439\n",
      "Epoch 22, CIFAR-10 Batch 5:  Loss of the model :: 0.9304901361465454\n",
      "Validation Accuracy of the model :: 0.6597998738288879\n",
      "Epoch 23, CIFAR-10 Batch 1:  Loss of the model :: 0.6059377193450928\n",
      "Validation Accuracy of the model :: 0.6413998603820801\n",
      "Epoch 23, CIFAR-10 Batch 2:  Loss of the model :: 0.18493527173995972\n",
      "Validation Accuracy of the model :: 0.65559983253479\n",
      "Epoch 23, CIFAR-10 Batch 3:  Loss of the model :: 0.4378815293312073\n",
      "Validation Accuracy of the model :: 0.6591998338699341\n",
      "Epoch 23, CIFAR-10 Batch 4:  Loss of the model :: 0.46169477701187134\n",
      "Validation Accuracy of the model :: 0.6575998067855835\n",
      "Epoch 23, CIFAR-10 Batch 5:  Loss of the model :: 0.5445581078529358\n",
      "Validation Accuracy of the model :: 0.6501998901367188\n",
      "Epoch 24, CIFAR-10 Batch 1:  Loss of the model :: 0.45576515793800354\n",
      "Validation Accuracy of the model :: 0.6475998759269714\n",
      "Epoch 24, CIFAR-10 Batch 2:  Loss of the model :: 0.19965560734272003\n",
      "Validation Accuracy of the model :: 0.6523998379707336\n",
      "Epoch 24, CIFAR-10 Batch 3:  Loss of the model :: 0.3912808895111084\n",
      "Validation Accuracy of the model :: 0.6469999551773071\n",
      "Epoch 24, CIFAR-10 Batch 4:  Loss of the model :: 0.36776596307754517\n",
      "Validation Accuracy of the model :: 0.6559998989105225\n",
      "Epoch 24, CIFAR-10 Batch 5:  Loss of the model :: 0.7472681999206543\n",
      "Validation Accuracy of the model :: 0.6553998589515686\n",
      "Epoch 25, CIFAR-10 Batch 1:  Loss of the model :: 0.4688265919685364\n",
      "Validation Accuracy of the model :: 0.6541999578475952\n",
      "Epoch 25, CIFAR-10 Batch 2:  Loss of the model :: 0.1426793932914734\n",
      "Validation Accuracy of the model :: 0.6477999091148376\n",
      "Epoch 25, CIFAR-10 Batch 3:  Loss of the model :: 0.24845898151397705\n",
      "Validation Accuracy of the model :: 0.6187999248504639\n",
      "Epoch 25, CIFAR-10 Batch 4:  Loss of the model :: 0.3240448236465454\n",
      "Validation Accuracy of the model :: 0.6543998718261719\n",
      "Epoch 25, CIFAR-10 Batch 5:  Loss of the model :: 0.7477110624313354\n",
      "Validation Accuracy of the model :: 0.653799831867218\n",
      "Epoch 26, CIFAR-10 Batch 1:  Loss of the model :: 0.3945138454437256\n",
      "Validation Accuracy of the model :: 0.6537998914718628\n",
      "Epoch 26, CIFAR-10 Batch 2:  Loss of the model :: 0.5297842025756836\n",
      "Validation Accuracy of the model :: 0.6527999043464661\n",
      "Epoch 26, CIFAR-10 Batch 3:  Loss of the model :: 0.3901899755001068\n",
      "Validation Accuracy of the model :: 0.6657998561859131\n",
      "Epoch 26, CIFAR-10 Batch 4:  Loss of the model :: 0.387896329164505\n",
      "Validation Accuracy of the model :: 0.6609998941421509\n",
      "Epoch 26, CIFAR-10 Batch 5:  Loss of the model :: 0.8277387022972107\n",
      "Validation Accuracy of the model :: 0.6551998853683472\n",
      "Epoch 27, CIFAR-10 Batch 1:  Loss of the model :: 0.2842593789100647\n",
      "Validation Accuracy of the model :: 0.6513998508453369\n",
      "Epoch 27, CIFAR-10 Batch 2:  Loss of the model :: 0.1699712723493576\n",
      "Validation Accuracy of the model :: 0.6627998948097229\n",
      "Epoch 27, CIFAR-10 Batch 3:  Loss of the model :: 0.1510123610496521\n",
      "Validation Accuracy of the model :: 0.6613999009132385\n",
      "Epoch 27, CIFAR-10 Batch 4:  Loss of the model :: 0.3231278359889984\n",
      "Validation Accuracy of the model :: 0.6685999035835266\n",
      "Epoch 27, CIFAR-10 Batch 5:  Loss of the model :: 0.6023521423339844\n",
      "Validation Accuracy of the model :: 0.6531999111175537\n",
      "Epoch 28, CIFAR-10 Batch 1:  Loss of the model :: 0.5340508222579956\n",
      "Validation Accuracy of the model :: 0.6523998975753784\n",
      "Epoch 28, CIFAR-10 Batch 2:  Loss of the model :: 0.3475528955459595\n",
      "Validation Accuracy of the model :: 0.6593999266624451\n",
      "Epoch 28, CIFAR-10 Batch 3:  Loss of the model :: 0.34389758110046387\n",
      "Validation Accuracy of the model :: 0.6597998738288879\n",
      "Epoch 28, CIFAR-10 Batch 4:  Loss of the model :: 0.2553538680076599\n",
      "Validation Accuracy of the model :: 0.6511999368667603\n",
      "Epoch 28, CIFAR-10 Batch 5:  Loss of the model :: 0.509382963180542\n",
      "Validation Accuracy of the model :: 0.6573998928070068\n",
      "Epoch 29, CIFAR-10 Batch 1:  Loss of the model :: 0.34392881393432617\n",
      "Validation Accuracy of the model :: 0.6511998772621155\n",
      "Epoch 29, CIFAR-10 Batch 2:  Loss of the model :: 0.23702216148376465\n",
      "Validation Accuracy of the model :: 0.6529998779296875\n",
      "Epoch 29, CIFAR-10 Batch 3:  Loss of the model :: 0.2415214329957962\n",
      "Validation Accuracy of the model :: 0.6575998663902283\n",
      "Epoch 29, CIFAR-10 Batch 4:  Loss of the model :: 0.3107449412345886\n",
      "Validation Accuracy of the model :: 0.6597999334335327\n",
      "Epoch 29, CIFAR-10 Batch 5:  Loss of the model :: 0.749399721622467\n",
      "Validation Accuracy of the model :: 0.6579998731613159\n",
      "Epoch 30, CIFAR-10 Batch 1:  Loss of the model :: 0.21743741631507874\n",
      "Validation Accuracy of the model :: 0.6453999280929565\n",
      "Epoch 30, CIFAR-10 Batch 2:  Loss of the model :: 0.35696059465408325\n",
      "Validation Accuracy of the model :: 0.6457998752593994\n",
      "Epoch 30, CIFAR-10 Batch 3:  Loss of the model :: 0.23800228536128998\n",
      "Validation Accuracy of the model :: 0.6545999050140381\n",
      "Epoch 30, CIFAR-10 Batch 4:  Loss of the model :: 0.33126652240753174\n",
      "Validation Accuracy of the model :: 0.6553999185562134\n",
      "Epoch 30, CIFAR-10 Batch 5:  Loss of the model :: 0.35855522751808167\n",
      "Validation Accuracy of the model :: 0.6507999897003174\n"
     ]
    }
   ],
   "source": [
    "\"\"\"\n",
    "DON'T MODIFY ANYTHING IN THIS CELL\n",
    "\"\"\"\n",
    "save_model_path = './image_classification'\n",
    "\n",
    "print('Training...')\n",
    "with tf.Session() as sess:\n",
    "    # Initializing the variables\n",
    "    sess.run(tf.global_variables_initializer())\n",
    "    \n",
    "    # Training cycle\n",
    "    for epoch in range(epochs):\n",
    "        # Loop over all batches\n",
    "        n_batches = 5\n",
    "        for batch_i in range(1, n_batches + 1):\n",
    "            for batch_features, batch_labels in helper.load_preprocess_training_batch(batch_i, batch_size):\n",
    "                train_neural_network(sess, optimizer, keep_probability, batch_features, batch_labels)\n",
    "            print('Epoch {:>2}, CIFAR-10 Batch {}:  '.format(epoch + 1, batch_i), end='')\n",
    "            print_stats(sess, batch_features, batch_labels, cost, accuracy)\n",
    "            \n",
    "    # Save Model\n",
    "    saver = tf.train.Saver()\n",
    "    save_path = saver.save(sess, save_model_path)"
   ]
  },
  {
   "cell_type": "markdown",
   "metadata": {
    "deletable": true,
    "editable": true
   },
   "source": [
    "# Checkpoint\n",
    "The model has been saved to disk.\n",
    "## Test Model\n",
    "Test your model against the test dataset.  This will be your final accuracy. You should have an accuracy greater than 50%. If you don't, keep tweaking the model architecture and parameters."
   ]
  },
  {
   "cell_type": "code",
   "execution_count": 139,
   "metadata": {
    "collapsed": false,
    "deletable": true,
    "editable": true
   },
   "outputs": [
    {
     "name": "stdout",
     "output_type": "stream",
     "text": [
      "Testing Accuracy: 0.6522\n",
      "\n"
     ]
    },
    {
     "data": {
      "image/png": "[encoded data removed]",
      "text/plain": [
       "<matplotlib.figure.Figure at 0x7fc3ec0dd240>"
      ]
     },
     "metadata": {
      "image/png": {
       "height": 319,
       "width": 355
      }
     },
     "output_type": "display_data"
    }
   ],
   "source": [
    "\"\"\"\n",
    "DON'T MODIFY ANYTHING IN THIS CELL\n",
    "\"\"\"\n",
    "%matplotlib inline\n",
    "%config InlineBackend.figure_format = 'retina'\n",
    "\n",
    "import tensorflow as tf\n",
    "import pickle\n",
    "import helper\n",
    "import random\n",
    "\n",
    "# Set batch size if not already set\n",
    "try:\n",
    "    if batch_size:\n",
    "        pass\n",
    "except NameError:\n",
    "    batch_size = 64\n",
    "\n",
    "save_model_path = './image_classification'\n",
    "n_samples = 4\n",
    "top_n_predictions = 3\n",
    "\n",
    "def test_model():\n",
    "    \"\"\"\n",
    "    Test the saved model against the test dataset\n",
    "    \"\"\"\n",
    "\n",
    "    test_features, test_labels = pickle.load(open('preprocess_training.p', mode='rb'))\n",
    "    loaded_graph = tf.Graph()\n",
    "\n",
    "    with tf.Session(graph=loaded_graph) as sess:\n",
    "        # Load model\n",
    "        loader = tf.train.import_meta_graph(save_model_path + '.meta')\n",
    "        loader.restore(sess, save_model_path)\n",
    "\n",
    "        # Get Tensors from loaded model\n",
    "        loaded_x = loaded_graph.get_tensor_by_name('x:0')\n",
    "        loaded_y = loaded_graph.get_tensor_by_name('y:0')\n",
    "        loaded_keep_prob = loaded_graph.get_tensor_by_name('keep_prob:0')\n",
    "        loaded_logits = loaded_graph.get_tensor_by_name('logits:0')\n",
    "        loaded_acc = loaded_graph.get_tensor_by_name('accuracy:0')\n",
    "        \n",
    "        # Get accuracy in batches for memory limitations\n",
    "        test_batch_acc_total = 0\n",
    "        test_batch_count = 0\n",
    "        \n",
    "        for train_feature_batch, train_label_batch in helper.batch_features_labels(test_features, test_labels, batch_size):\n",
    "            test_batch_acc_total += sess.run(\n",
    "                loaded_acc,\n",
    "                feed_dict={loaded_x: train_feature_batch, loaded_y: train_label_batch, loaded_keep_prob: 1.0})\n",
    "            test_batch_count += 1\n",
    "\n",
    "        print('Testing Accuracy: {}\\n'.format(test_batch_acc_total/test_batch_count))\n",
    "\n",
    "        # Print Random Samples\n",
    "        random_test_features, random_test_labels = tuple(zip(*random.sample(list(zip(test_features, test_labels)), n_samples)))\n",
    "        random_test_predictions = sess.run(\n",
    "            tf.nn.top_k(tf.nn.softmax(loaded_logits), top_n_predictions),\n",
    "            feed_dict={loaded_x: random_test_features, loaded_y: random_test_labels, loaded_keep_prob: 1.0})\n",
    "        helper.display_image_predictions(random_test_features, random_test_labels, random_test_predictions)\n",
    "\n",
    "\n",
    "test_model()"
   ]
  },
  {
   "cell_type": "markdown",
   "metadata": {
    "deletable": true,
    "editable": true
   },
   "source": [
    "## Why 50-80% Accuracy?\n",
    "You might be wondering why you can't get an accuracy any higher. First things first, 50% isn't bad for a simple CNN.  Pure guessing would get you 10% accuracy. However, you might notice people are getting scores [well above 80%](http://rodrigob.github.io/are_we_there_yet/build/classification_datasets_results.html#43494641522d3130).  That's because we haven't taught you all there is to know about neural networks. We still need to cover a few more techniques.\n",
    "## Submitting This Project\n",
    "When submitting this project, make sure to run all the cells before saving the notebook.  Save the notebook file as \"dlnd_image_classification.ipynb\" and save it as a HTML file under \"File\" -> \"Download as\".  Include the \"helper.py\" and \"problem_unittests.py\" files in your submission."
   ]
  },
  {
   "cell_type": "code",
   "execution_count": null,
   "metadata": {
    "collapsed": true
   },
   "outputs": [],
   "source": []
  }
 ],
 "metadata": {
  "kernelspec": {
   "display_name": "Python 3",
   "language": "python",
   "name": "python3"
  },
  "language_info": {
   "codemirror_mode": {
    "name": "ipython",
    "version": 3
   },
   "file_extension": ".py",
   "mimetype": "text/x-python",
   "name": "python",
   "nbconvert_exporter": "python",
   "pygments_lexer": "ipython3",
   "version": "3.5.2"
  },
  "widgets": {
   "state": {},
   "version": "1.1.2"
  }
 },
 "nbformat": 4,
 "nbformat_minor": 0
}
